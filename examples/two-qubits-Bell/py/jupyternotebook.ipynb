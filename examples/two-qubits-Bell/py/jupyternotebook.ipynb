{
 "cells": [
  {
   "cell_type": "code",
   "execution_count": 1,
   "metadata": {},
   "outputs": [],
   "source": [
    "import itertools # product()\n",
    "import numpy as np\n",
    "import qutip\n",
    "import qutip.states\n",
    "import tomographer\n",
    "import tomographer.tools.densedm\n",
    "import tomographer.querrorbars\n",
    "import tomographer.jpyutil\n",
    "from IPython.display import display, Markdown"
   ]
  },
  {
   "cell_type": "code",
   "execution_count": 2,
   "metadata": {},
   "outputs": [
    {
     "data": {
      "text/markdown": [
       "rho_target_Bell = "
      ],
      "text/plain": [
       "<IPython.core.display.Markdown object>"
      ]
     },
     "metadata": {},
     "output_type": "display_data"
    },
    {
     "data": {
      "text/latex": [
       "Quantum object: dims = [[4], [4]], shape = (4, 4), type = oper, isherm = True\\begin{equation*}\\left(\\begin{array}{*{11}c}0.0 & 0.0 & 0.0 & 0.0\\\\0.0 & 0.500 & -0.500j & 0.0\\\\0.0 & 0.500j & 0.500 & 0.0\\\\0.0 & 0.0 & 0.0 & 0.0\\\\\\end{array}\\right)\\end{equation*}"
      ],
      "text/plain": [
       "Quantum object: dims = [[4], [4]], shape = (4, 4), type = oper, isherm = True\n",
       "Qobj data =\n",
       "[[ 0.0+0.j   0.0+0.j   0.0+0.j   0.0+0.j ]\n",
       " [ 0.0+0.j   0.5+0.j   0.0-0.5j  0.0+0.j ]\n",
       " [ 0.0+0.j   0.0+0.5j  0.5+0.j   0.0+0.j ]\n",
       " [ 0.0+0.j   0.0+0.j   0.0+0.j   0.0+0.j ]]"
      ]
     },
     "metadata": {},
     "output_type": "display_data"
    },
    {
     "data": {
      "text/markdown": [
       "rho_sim = "
      ],
      "text/plain": [
       "<IPython.core.display.Markdown object>"
      ]
     },
     "metadata": {},
     "output_type": "display_data"
    },
    {
     "data": {
      "text/latex": [
       "Quantum object: dims = [[4], [4]], shape = (4, 4), type = oper, isherm = True\\begin{equation*}\\left(\\begin{array}{*{11}c}0.013 & 0.0 & 0.0 & 0.0\\\\0.0 & 0.487 & -0.475j & 0.0\\\\0.0 & 0.475j & 0.487 & 0.0\\\\0.0 & 0.0 & 0.0 & 0.013\\\\\\end{array}\\right)\\end{equation*}"
      ],
      "text/plain": [
       "Quantum object: dims = [[4], [4]], shape = (4, 4), type = oper, isherm = True\n",
       "Qobj data =\n",
       "[[ 0.0125+0.j     0.0000+0.j     0.0000+0.j     0.0000+0.j   ]\n",
       " [ 0.0000+0.j     0.4875+0.j     0.0000-0.475j  0.0000+0.j   ]\n",
       " [ 0.0000+0.j     0.0000+0.475j  0.4875+0.j     0.0000+0.j   ]\n",
       " [ 0.0000+0.j     0.0000+0.j     0.0000+0.j     0.0125+0.j   ]]"
      ]
     },
     "metadata": {},
     "output_type": "display_data"
    }
   ],
   "source": [
    "rho_target_Bell = qutip.states.ket2dm(qutip.Qobj(np.array([0,1,1j,0]/np.sqrt(2))))\n",
    "display(Markdown('rho_target_Bell = '))\n",
    "display(rho_target_Bell)\n",
    "# The data below were simulated from the following true state:\n",
    "rho_sim = 0.95*rho_target_Bell + 0.05*qutip.qeye(4)/4;\n",
    "display(Markdown('rho_sim = '))\n",
    "display(rho_sim)"
   ]
  },
  {
   "cell_type": "code",
   "execution_count": 3,
   "metadata": {},
   "outputs": [],
   "source": [
    "# All POVM effects when measuring Pauli X, Y, or Z on a single qubit\n",
    "MeasEffects1Qubit = tomographer.tools.densedm.PauliMeasEffectsQubit\n",
    "\n",
    "# Listing of all POVM effects of product Paulis on two qubits (with individual outcomes on each qubit)\n",
    "Emn = [ None ] * 36 # prepare 36 elements\n",
    "for i in range(3):\n",
    "    for j in range(3):\n",
    "        for s in range(2):\n",
    "            for t in range(2):\n",
    "                idx = j*3*2*2 + i*2*2 + t*2 + s\n",
    "                Emn[idx] = np.kron(MeasEffects1Qubit[i][s], MeasEffects1Qubit[j][t])\n",
    "\n",
    "# These are the measurement counts. Nm[k] is the number of times the POVM effect\n",
    "# Emn[k] was observed. The numbers here were obtained by simulating measurements\n",
    "# from the state `rho_sim` given above using the described measurement settings.\n",
    "Nm = np.array([\n",
    "   122,   105,   135,   138, # counts for XX for outcomes (+1, +1), (+1, -1), (-1, +1), (-1, -1)\n",
    "   248,     7,     5,   240, # counts for XY for outcomes (+1, +1), (+1, -1), (-1, +1), (-1, -1)\n",
    "   102,   131,   119,   148, # counts for XZ for outcomes (+1, +1), (+1, -1), (-1, +1), (-1, -1)\n",
    "     7,   252,   240,     1, # counts for YX for outcomes (+1, +1), (+1, -1), (-1, +1), (-1, -1)\n",
    "   125,   135,   127,   113, # counts for YY for outcomes (+1, +1), (+1, -1), (-1, +1), (-1, -1)\n",
    "   140,   124,   118,   118, # counts for YZ for outcomes (+1, +1), (+1, -1), (-1, +1), (-1, -1)\n",
    "   122,   119,   135,   124, # counts for ZX for outcomes (+1, +1), (+1, -1), (-1, +1), (-1, -1)\n",
    "   126,   123,   134,   117, # counts for ZY for outcomes (+1, +1), (+1, -1), (-1, +1), (-1, -1)\n",
    "     9,   233,   253,     5, # counts for ZZ for outcomes (+1, +1), (+1, -1), (-1, +1), (-1, -1)\n",
    "]);"
   ]
  },
  {
   "cell_type": "code",
   "execution_count": 4,
   "metadata": {},
   "outputs": [
    {
     "data": {
      "text/latex": [
       "Quantum object: dims = [[4], [4]], shape = (4, 4), type = oper, isherm = True\\begin{equation*}\\left(\\begin{array}{*{11}c}-2.0 & 0.0 & 0.0 & 0.0\\\\0.0 & 0.0 & -2.0j & 0.0\\\\0.0 & 2.0j & 0.0 & 0.0\\\\0.0 & 0.0 & 0.0 & -2.0\\\\\\end{array}\\right)\\end{equation*}"
      ],
      "text/plain": [
       "Quantum object: dims = [[4], [4]], shape = (4, 4), type = oper, isherm = True\n",
       "Qobj data =\n",
       "[[-2.+0.j  0.+0.j  0.+0.j  0.+0.j]\n",
       " [ 0.+0.j  0.+0.j  0.-2.j  0.+0.j]\n",
       " [ 0.+0.j  0.+2.j  0.+0.j  0.+0.j]\n",
       " [ 0.+0.j  0.+0.j  0.+0.j -2.+0.j]]"
      ]
     },
     "metadata": {},
     "output_type": "display_data"
    }
   ],
   "source": [
    "# An entanglement witness which is appropriate for our target state, as a qutip.Qobj\n",
    "EntglWitness = (- qutip.qeye(4)\n",
    "    # how do you \"collapse systems together\" with qutip?? we could do this with np.kron() also...\n",
    "    - qutip.Qobj(qutip.tensor(qutip.sigmax(),qutip.sigmay()).data,dims=[[4],[4]])\n",
    "    + qutip.Qobj(qutip.tensor(qutip.sigmay(),qutip.sigmax()).data,dims=[[4],[4]])\n",
    "    - qutip.Qobj(qutip.tensor(qutip.sigmaz(),qutip.sigmaz()).data,dims=[[4],[4]]) )\n",
    "display(EntglWitness)"
   ]
  },
  {
   "cell_type": "code",
   "execution_count": 5,
   "metadata": {},
   "outputs": [
    {
     "data": {
      "text/plain": [
       "1.9999999999999996"
      ]
     },
     "metadata": {},
     "output_type": "display_data"
    }
   ],
   "source": [
    "# Value for rho_target_Bell maximally entangled state: +2\n",
    "display(qutip.expect(EntglWitness, rho_target_Bell))"
   ]
  },
  {
   "cell_type": "code",
   "execution_count": 6,
   "metadata": {},
   "outputs": [
    {
     "data": {
      "text/plain": [
       "-1.0"
      ]
     },
     "metadata": {},
     "output_type": "display_data"
    },
    {
     "data": {
      "text/plain": [
       "-2.0"
      ]
     },
     "metadata": {},
     "output_type": "display_data"
    },
    {
     "data": {
      "text/plain": [
       "0.0"
      ]
     },
     "metadata": {},
     "output_type": "display_data"
    }
   ],
   "source": [
    "# but you can show that for any separable state this value is <= 0. For example:\n",
    "display(qutip.expect(EntglWitness, qutip.qeye(4)/4))\n",
    "display(qutip.expect(EntglWitness, qutip.Qobj(np.array([1,0,0,0]))))\n",
    "display(qutip.expect(EntglWitness, 0.5*qutip.ket2dm(qutip.Qobj(np.array([0,1,0,0])))\n",
    "             + 0.5*qutip.ket2dm(qutip.Qobj(np.array([0,0,1,0])))))"
   ]
  },
  {
   "cell_type": "code",
   "execution_count": 13,
   "metadata": {},
   "outputs": [
    {
     "data": {
      "application/vnd.jupyter.widget-view+json": {
       "model_id": "ecda518b953946cd9591de6b4455795e"
      }
     },
     "metadata": {},
     "output_type": "display_data"
    }
   ],
   "source": [
    "# Now, we're ready to run our tomography procedure. We'll be estimating\n",
    "# the expectation value of the entanglement witness.\n",
    "\n",
    "r = None # global variable\n",
    "\n",
    "with tomographer.jpyutil.RandWalkProgressBar() as prg:\n",
    "    r = tomographer.tomorun.tomorun(\n",
    "        # the dimension of the quantum system\n",
    "        dim=4,\n",
    "        # the tomography data\n",
    "        Nm=Nm,\n",
    "        Emn=Emn,\n",
    "        # Histogram: values in [1.6, 2.0] split into 50 bins\n",
    "        hist_params=tomographer.UniformBinsHistogramParams(1.6,2,50),\n",
    "        # Random Walk parameters: step size, sweep size, number of thermalization sweeps, number of live sweeps\n",
    "        mhrw_params=tomographer.MHRWParams(0.009,240,2048,32768),\n",
    "        # figure of merit:\n",
    "        fig_of_merit=\"obs-value\",\n",
    "        observable=EntglWitness.data.toarray(),\n",
    "        #num_repeats=12, # default value = auto-detect number of CPU's\n",
    "        progress_fn=prg.progress_fn\n",
    "    )\n",
    "    prg.displayFinalInfo(r['final_report_runs'])"
   ]
  },
  {
   "cell_type": "code",
   "execution_count": 14,
   "metadata": {},
   "outputs": [],
   "source": [
    "# Collect the histogram\n",
    "final_histogram = r['final_histogram']"
   ]
  },
  {
   "cell_type": "code",
   "execution_count": 15,
   "metadata": {},
   "outputs": [
    {
     "name": "stdout",
     "output_type": "stream",
     "text": [
      "Fit parameters:\n",
      "          a2 = 38.6274\n",
      "          a1 = 231.251\n",
      "           m = 41.0814\n",
      "           c = 115.968\n",
      "Quantum Error Bars:\n",
      "          f0 = 1.832\n",
      "       Delta = 0.03616\n",
      "       gamma = 0.002461\n",
      "\n"
     ]
    },
    {
     "data": {
      "image/png": "[encoded data removed]",
      "text/plain": [
       "<matplotlib.figure.Figure at 0x1096fc240>"
      ]
     },
     "metadata": {},
     "output_type": "display_data"
    },
    {
     "data": {
      "image/png": "[encoded data removed]",
      "text/plain": [
       "<matplotlib.figure.Figure at 0x109810fd0>"
      ]
     },
     "metadata": {},
     "output_type": "display_data"
    }
   ],
   "source": [
    "# Do the analysis and get the quantum error bars\n",
    "analysis = tomographer.querrorbars.HistogramAnalysis(final_histogram, ftox=(2,-1))\n",
    "analysis.printFitParameters()\n",
    "analysis.printQuantumErrorBars()\n",
    "# linear scale plot\n",
    "analysis.plot()\n",
    "# log scale plot (adjust scale before showing plot)\n",
    "p = analysis.plot(log_scale=True, show_plot=False)\n",
    "p.ax.set_ylim([1e-8, 50])\n",
    "p.show()"
   ]
  },
  {
   "cell_type": "code",
   "execution_count": null,
   "metadata": {
    "collapsed": true
   },
   "outputs": [],
   "source": []
  }
 ],
 "metadata": {
  "kernelspec": {
   "display_name": "Python 3",
   "language": "python",
   "name": "python3"
  },
  "language_info": {
   "codemirror_mode": {
    "name": "ipython",
    "version": 3
   },
   "file_extension": ".py",
   "mimetype": "text/x-python",
   "name": "python",
   "nbconvert_exporter": "python",
   "pygments_lexer": "ipython3",
   "version": "3.6.1"
  },
  "widgets": {
   "state": {
    "debf3ba37294442dac9060c856ddba93": {
     "views": [
      {
       "cell_index": 6
      }
     ]
    }
   },
   "version": "1.2.0"
  }
 },
 "nbformat": 4,
 "nbformat_minor": 1
}
