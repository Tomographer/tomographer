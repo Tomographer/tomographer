{
 "cells": [
  {
   "cell_type": "code",
   "execution_count": 1,
   "metadata": {
    "collapsed": false
   },
   "outputs": [],
   "source": [
    "import tomographer\n",
    "#import logging\n",
    "#tomographer.cxxlogger.level = logging.NOTSET # slow things down a bit, to test for progress"
   ]
  },
  {
   "cell_type": "code",
   "execution_count": 2,
   "metadata": {
    "collapsed": true
   },
   "outputs": [],
   "source": [
    "# Give us a nice progress bar\n",
    "import jpyprogress"
   ]
  },
  {
   "cell_type": "code",
   "execution_count": 4,
   "metadata": {
    "collapsed": false,
    "scrolled": false
   },
   "outputs": [
    {
     "name": "stdout",
     "output_type": "stream",
     "text": [
      "\n",
      "                                        Final Report of Runs                                        \n",
      "----------------------------------------------------------------------------------------------------\n",
      "\tstep size       = 0.03\n",
      "\t# iter. / sweep = 35\n",
      "\t# therm. sweeps = 500\n",
      "\t# run sweeps    = 32768\n",
      "# 0: 0.9|                           ........-+x%##%o-...   |1                  [accept ratio = 0.20]\n",
      "    error bars: 48 converged / 1 maybe (1 isolated) / 1 not converged\n",
      "# 1: 0.9|                            .......-+x%##%o-...   |1                  [accept ratio = 0.20]\n",
      "    error bars: 49 converged / 0 maybe (0 isolated) / 1 not converged\n",
      "# 2: 0.9|                           ........-+o%##%o-....  |1                  [accept ratio = 0.20]\n",
      "    error bars: 49 converged / 1 maybe (1 isolated) / 0 not converged\n",
      "# 3: 0.9|                            .......-+x%##%o-...   |1                  [accept ratio = 0.20]\n",
      "    error bars: 48 converged / 2 maybe (2 isolated) / 0 not converged\n",
      "# 4: 0.9|                            .......-+x%##%o-...   |1                  [accept ratio = 0.20]\n",
      "    error bars: 49 converged / 1 maybe (1 isolated) / 0 not converged\n",
      "# 5: 0.9|                          .........-+x%##%o-...   |1                  [accept ratio = 0.20]\n",
      "    error bars: 49 converged / 1 maybe (1 isolated) / 0 not converged\n",
      "# 6: 0.9|                          .........-+x%##%o-...   |1                  [accept ratio = 0.20]\n",
      "    error bars: 49 converged / 1 maybe (1 isolated) / 0 not converged\n",
      "# 7: 0.9|                          . .......-+x%##%o-...   |1                  [accept ratio = 0.20]\n",
      "    error bars: 50 converged / 0 maybe (0 isolated) / 0 not converged\n",
      "# 8: 0.9|                        .  ........-+x%##%o-...   |1                  [accept ratio = 0.20]\n",
      "    error bars: 49 converged / 1 maybe (1 isolated) / 0 not converged\n",
      "# 9: 0.9|                           ........-+x%##%o-...   |1                  [accept ratio = 0.20]\n",
      "    error bars: 48 converged / 1 maybe (1 isolated) / 1 not converged\n",
      "#10: 0.9|                          .........-+x%##%o-....  |1                  [accept ratio = 0.20]\n",
      "    error bars: 49 converged / 1 maybe (1 isolated) / 0 not converged\n",
      "#11: 0.9|                           ........-+x%##%o-...   |1                  [accept ratio = 0.20]\n",
      "    error bars: 49 converged / 1 maybe (1 isolated) / 0 not converged\n",
      "----------------------------------------------------------------------------------------------------\n",
      "\n",
      "                                          Final Histogram                                           \n",
      "----------------------------------------------------------------------------------------------------\n",
      "0.9010 ||                                                                             0.000 +- 0.000\n",
      "0.9030 ||                                                                             0.000 +- 0.000\n",
      "0.9050 ||                                                                             0.000 +- 0.000\n",
      "0.9070 ||                                                                             0.000 +- 0.000\n",
      "0.9090 ||                                                                             0.000 +- 0.000\n",
      "0.9110 ||                                                                             0.000 +- 0.000\n",
      "0.9130 ||                                                                             0.000 +- 0.000\n",
      "0.9150 ||                                                                             0.000 +- 0.000\n",
      "0.9170 ||                                                                             0.000 +- 0.000\n",
      "0.9190 ||                                                                             0.000 +- 0.000\n",
      "0.9210 ||                                                                             0.000 +- 0.000\n",
      "0.9230 ||                                                                             0.000 +- 0.000\n",
      "0.9250 ||                                                                             0.000 +- 0.000\n",
      "0.9270 ||                                                                             0.000 +- 0.000\n",
      "0.9290 ||                                                                             0.000 +- 0.000\n",
      "0.9310 ||                                                                             0.000 +- 0.000\n",
      "0.9330 ||                                                                             0.000 +- 0.000\n",
      "0.9350 ||                                                                             0.000 +- 0.000\n",
      "0.9370 ||                                                                             0.000 +- 0.000\n",
      "0.9390 ||                                                                             0.000 +- 0.000\n",
      "0.9410 ||                                                                             0.000 +- 0.000\n",
      "0.9430 ||                                                                             0.000 +- 0.000\n",
      "0.9450 ||                                                                             0.000 +- 0.000\n",
      "0.9470 ||                                                                             0.000 +- 0.000\n",
      "0.9490 ||                                                                             0.000 +- 0.000\n",
      "0.9510 ||                                                                             0.000 +- 0.000\n",
      "0.9530 ||                                                                             0.000 +- 0.000\n",
      "0.9550 ||                                                                             0.000 +- 0.000\n",
      "0.9570 ||                                                                             0.000 +- 0.000\n",
      "0.9590 ||                                                                             0.000 +- 0.000\n",
      "0.9610 ||                                                                             0.001 +- 0.000\n",
      "0.9630 |*|                                                                            0.001 +- 0.000\n",
      "0.9650 |**|                                                                           0.004 +- 0.000\n",
      "0.9670 |***||                                                                         0.008 +- 0.000\n",
      "0.9690 |********|                                                                     0.018 +- 0.000\n",
      "0.9710 |****************|                                                             0.036 +- 0.000\n",
      "0.9730 |****************************|                                                 0.065 +- 0.000\n",
      "0.9750 |*********************************************|                                0.104 +- 0.000\n",
      "0.9770 |***************************************************************|              0.145 +- 0.001\n",
      "0.9790 |***************************************************************************|  0.175 +- 0.001\n",
      "0.9810 |***************************************************************************|  0.173 +- 0.001\n",
      "0.9830 |************************************************************|                 0.138 +- 0.001\n",
      "0.9850 |************************************|                                         0.083 +- 0.000\n",
      "0.9870 |***************||                                                             0.036 +- 0.000\n",
      "0.9890 |****|                                                                         0.010 +- 0.000\n",
      "0.9910 |*|                                                                            0.001 +- 0.000\n",
      "0.9930 ||                                                                             0.000 +- 0.000\n",
      "0.9950 ||                                                                             0.000 +- 0.000\n",
      "0.9970 ||                                                                             0.000 +- 0.000\n",
      "0.9990 ||                                                                             0.000 +- 0.000\n",
      "----------------------------------------------------------------------------------------------------\n",
      "\n",
      "\n"
     ]
    }
   ],
   "source": [
    "import numpy as np\n",
    "\n",
    "Nm = np.array([ 490, 510, 494, 506, 980, 20 ])\n",
    "\n",
    "Emn = [\n",
    "    # X direction\n",
    "    np.array([[1, 1],\n",
    "              [1, 1]]),\n",
    "    np.array([[1, -1],\n",
    "              [-1, 1]]),\n",
    "    # Y direction\n",
    "    np.array([[1, -1j],\n",
    "              [1j, 1]]),\n",
    "    np.array([[1, 1j],\n",
    "              [-1j, 1]]),\n",
    "    # Z direction\n",
    "    np.array([[1, 0],\n",
    "              [0, 0]]),\n",
    "    np.array([[0, 0],\n",
    "              [0, 1]]),\n",
    "    ]\n",
    "\n",
    "rho_ref = np.array([[1,0],[0,0]])\n",
    "\n",
    "r = None\n",
    "with jpyprogress.NiceProgressBar(\"Running random walks for the tomography procedure ... \") as prg:\n",
    "    def progress_fn(r):\n",
    "        prg.progress(fraction_done=r.total_fraction_done)\n",
    "        #print(\"{:.2%}: {} + ({}) \".format(r.total_fraction_done, r.num_completed,\n",
    "        #                                \",\".join([\"{:.2%}\".format(w.fraction_done) for w in r.workers if w]) ))\n",
    "    r = tomographer.tomorun.tomorun(dim=2, Nm=Nm, Emn=Emn,\n",
    "                                    hist_params=tomographer.UniformBinsHistogramParams(0.9,1,50),\n",
    "                                    mhrw_params=tomographer.MHRWParams(0.03,35,500,32768),\n",
    "                                    fig_of_merit=\"obs-value\",\n",
    "                                    num_repeats=12,\n",
    "                                    observable=rho_ref,\n",
    "                                    progress_fn=progress_fn)\n",
    "\n",
    "#print(repr(r))\n",
    "#print(r['final_histogram'].prettyPrint(100))\n",
    "print(r['final_report'])\n"
   ]
  },
  {
   "cell_type": "code",
   "execution_count": 5,
   "metadata": {
    "collapsed": false
   },
   "outputs": [
    {
     "name": "stdout",
     "output_type": "stream",
     "text": [
      "0.9 1.0 50\n",
      "[[  0.00000000e+00]\n",
      " [  0.00000000e+00]\n",
      " [  0.00000000e+00]\n",
      " [  0.00000000e+00]\n",
      " [  0.00000000e+00]\n",
      " [  0.00000000e+00]\n",
      " [  0.00000000e+00]\n",
      " [  0.00000000e+00]\n",
      " [  0.00000000e+00]\n",
      " [  0.00000000e+00]\n",
      " [  0.00000000e+00]\n",
      " [  0.00000000e+00]\n",
      " [  0.00000000e+00]\n",
      " [  0.00000000e+00]\n",
      " [  0.00000000e+00]\n",
      " [  0.00000000e+00]\n",
      " [  0.00000000e+00]\n",
      " [  0.00000000e+00]\n",
      " [  0.00000000e+00]\n",
      " [  0.00000000e+00]\n",
      " [  0.00000000e+00]\n",
      " [  0.00000000e+00]\n",
      " [  0.00000000e+00]\n",
      " [  0.00000000e+00]\n",
      " [  2.54313151e-06]\n",
      " [  0.00000000e+00]\n",
      " [  1.27156576e-05]\n",
      " [  3.05175781e-05]\n",
      " [  6.61214193e-05]\n",
      " [  1.90734863e-04]\n",
      " [  5.00996908e-04]\n",
      " [  1.38854980e-03]\n",
      " [  3.62141927e-03]\n",
      " [  8.22194417e-03]\n",
      " [  1.82215373e-02]\n",
      " [  3.64125570e-02]\n",
      " [  6.54017131e-02]\n",
      " [  1.04138692e-01]\n",
      " [  1.44983927e-01]\n",
      " [  1.74850464e-01]\n",
      " [  1.73166911e-01]\n",
      " [  1.38122559e-01]\n",
      " [  8.34935506e-02]\n",
      " [  3.58327230e-02]\n",
      " [  9.81140137e-03]\n",
      " [  1.42923991e-03]\n",
      " [  9.40958659e-05]\n",
      " [  5.08626302e-06]\n",
      " [  0.00000000e+00]\n",
      " [  0.00000000e+00]]\n"
     ]
    }
   ],
   "source": [
    "print(r['final_histogram'].params.min, r['final_histogram'].params.max, r['final_histogram'].params.num_bins)\n",
    "print(r['final_histogram'].bins)"
   ]
  },
  {
   "cell_type": "code",
   "execution_count": null,
   "metadata": {
    "collapsed": true
   },
   "outputs": [],
   "source": []
  }
 ],
 "metadata": {
  "kernelspec": {
   "display_name": "Python 3",
   "language": "python",
   "name": "python3"
  },
  "language_info": {
   "codemirror_mode": {
    "name": "ipython",
    "version": 3
   },
   "file_extension": ".py",
   "mimetype": "text/x-python",
   "name": "python",
   "nbconvert_exporter": "python",
   "pygments_lexer": "ipython3",
   "version": "3.5.2+"
  },
  "widgets": {
   "state": {
    "78be0362deba4923b65cb9ae48e6427c": {
     "views": [
      {
       "cell_index": 2
      }
     ]
    }
   },
   "version": "1.2.0"
  }
 },
 "nbformat": 4,
 "nbformat_minor": 1
}
