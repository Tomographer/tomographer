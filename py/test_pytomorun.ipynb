{
 "cells": [
  {
   "cell_type": "code",
   "execution_count": 1,
   "metadata": {
    "collapsed": false
   },
   "outputs": [],
   "source": [
    "import tomographer\n",
    "#import logging\n",
    "#tomographer.cxxlogger.level = logging.NOTSET # slow things down a bit, to test for progress"
   ]
  },
  {
   "cell_type": "code",
   "execution_count": 2,
   "metadata": {
    "collapsed": true
   },
   "outputs": [],
   "source": [
    "# Give us a nice progress bar\n",
    "import tomographer.jpyutil"
   ]
  },
  {
   "cell_type": "code",
   "execution_count": 3,
   "metadata": {
    "collapsed": false,
    "scrolled": false
   },
   "outputs": [
    {
     "name": "stderr",
     "output_type": "stream",
     "text": [
      "Widget Javascript not detected.  It may not be installed properly. Did you enable the widgetsnbextension? If not, then run \"jupyter nbextension enable --py --sys-prefix widgetsnbextension\"\n"
     ]
    }
   ],
   "source": [
    "import numpy as np\n",
    "\n",
    "Nm = np.array([ 490, 510, 494, 506, 980, 20 ])\n",
    "\n",
    "Emn = [\n",
    "    # X direction\n",
    "    np.array([[1, 1],\n",
    "              [1, 1]]),\n",
    "    np.array([[1, -1],\n",
    "              [-1, 1]]),\n",
    "    # Y direction\n",
    "    np.array([[1, -1j],\n",
    "              [1j, 1]]),\n",
    "    np.array([[1, 1j],\n",
    "              [-1j, 1]]),\n",
    "    # Z direction\n",
    "    np.array([[1, 0],\n",
    "              [0, 0]]),\n",
    "    np.array([[0, 0],\n",
    "              [0, 1]]),\n",
    "    ]\n",
    "\n",
    "rho_ref = np.array([[1,0],[0,0]])\n",
    "\n",
    "r = None\n",
    "with tomographer.jpyutil.RandWalkProgressBar(\"Running random walks for the tomography procedure ... \") as prg:\n",
    "    r = tomographer.tomorun.tomorun(dim=2, Nm=Nm, Emn=Emn,\n",
    "                                    hist_params=tomographer.UniformBinsHistogramParams(0.9,1,50),\n",
    "                                    mhrw_params=tomographer.MHRWParams(0.025,40,500,32768),\n",
    "                                    fig_of_merit=\"obs-value\",\n",
    "                                    num_repeats=4,\n",
    "                                    observable=rho_ref,\n",
    "                                    progress_fn=prg.progress_fn)\n",
    "    prg.displayFinalInfo(r['final_report_runs'])\n",
    "#print(repr(r))\n",
    "#print(r['final_histogram'].prettyPrint(100))\n",
    "#print(r['final_report'])\n"
   ]
  },
  {
   "cell_type": "code",
   "execution_count": 6,
   "metadata": {
    "collapsed": false
   },
   "outputs": [
    {
     "name": "stdout",
     "output_type": "stream",
     "text": [
      "0.9 1.0 50\n",
      "[ 0.901  0.903  0.905  0.907  0.909  0.911  0.913  0.915  0.917  0.919\n",
      "  0.921  0.923  0.925  0.927  0.929  0.931  0.933  0.935  0.937  0.939\n",
      "  0.941  0.943  0.945  0.947  0.949  0.951  0.953  0.955  0.957  0.959\n",
      "  0.961  0.963  0.965  0.967  0.969  0.971  0.973  0.975  0.977  0.979\n",
      "  0.981  0.983  0.985  0.987  0.989  0.991  0.993  0.995  0.997  0.999] \n",
      " [  0.00000000e+00   0.00000000e+00   0.00000000e+00   0.00000000e+00\n",
      "   0.00000000e+00   0.00000000e+00   0.00000000e+00   0.00000000e+00\n",
      "   0.00000000e+00   0.00000000e+00   0.00000000e+00   0.00000000e+00\n",
      "   0.00000000e+00   0.00000000e+00   0.00000000e+00   0.00000000e+00\n",
      "   0.00000000e+00   0.00000000e+00   0.00000000e+00   0.00000000e+00\n",
      "   0.00000000e+00   0.00000000e+00   0.00000000e+00   7.62939453e-06\n",
      "   0.00000000e+00   0.00000000e+00   0.00000000e+00   3.05175781e-05\n",
      "   4.57763672e-05   1.75476074e-04   5.56945801e-04   1.41143799e-03\n",
      "   3.92150879e-03   8.89587402e-03   1.89666748e-02   3.62091064e-02\n",
      "   6.43234253e-02   1.03477478e-01   1.44309998e-01   1.73652649e-01\n",
      "   1.75010681e-01   1.39122009e-01   8.32748413e-02   3.54919434e-02\n",
      "   9.78851318e-03   1.26647949e-03   6.10351562e-05   0.00000000e+00\n",
      "   0.00000000e+00   0.00000000e+00] \n",
      " [  0.00000000e+00   0.00000000e+00   0.00000000e+00   0.00000000e+00\n",
      "   0.00000000e+00   0.00000000e+00   0.00000000e+00   0.00000000e+00\n",
      "   0.00000000e+00   0.00000000e+00   0.00000000e+00   0.00000000e+00\n",
      "   0.00000000e+00   0.00000000e+00   0.00000000e+00   0.00000000e+00\n",
      "   0.00000000e+00   0.00000000e+00   0.00000000e+00   0.00000000e+00\n",
      "   0.00000000e+00   0.00000000e+00   0.00000000e+00   7.62939453e-06\n",
      "   0.00000000e+00   0.00000000e+00   0.00000000e+00   1.52287225e-05\n",
      "   1.86144030e-05   3.74558691e-05   6.69613560e-05   1.00079182e-04\n",
      "   1.75430360e-04   2.66873429e-04   3.96547097e-04   4.97974282e-04\n",
      "   6.74925512e-04   8.56094714e-04   9.70376171e-04   1.02464754e-03\n",
      "   1.03497250e-03   9.21130369e-04   7.40844811e-04   5.02572465e-04\n",
      "   2.72913017e-04   1.02935065e-04   2.14513718e-05   0.00000000e+00\n",
      "   0.00000000e+00   0.00000000e+00]\n"
     ]
    }
   ],
   "source": [
    "print(r['final_histogram'].params.min, r['final_histogram'].params.max, r['final_histogram'].params.num_bins)\n",
    "print(r['final_histogram'].values_center, \"\\n\", r['final_histogram'].bins, \"\\n\", r['final_histogram'].delta)"
   ]
  },
  {
   "cell_type": "code",
   "execution_count": 7,
   "metadata": {
    "collapsed": false
   },
   "outputs": [
    {
     "data": {
      "text/plain": [
       "array([ 0.901,  0.903,  0.905,  0.907,  0.909,  0.911,  0.913,  0.915,\n",
       "        0.917,  0.919,  0.921,  0.923,  0.925,  0.927,  0.929,  0.931,\n",
       "        0.933,  0.935,  0.937,  0.939,  0.941,  0.943,  0.945,  0.947,\n",
       "        0.949,  0.951,  0.953,  0.955,  0.957,  0.959,  0.961,  0.963,\n",
       "        0.965,  0.967,  0.969,  0.971,  0.973,  0.975,  0.977,  0.979,\n",
       "        0.981,  0.983,  0.985,  0.987,  0.989,  0.991,  0.993,  0.995,\n",
       "        0.997,  0.999])"
      ]
     },
     "execution_count": 7,
     "metadata": {},
     "output_type": "execute_result"
    }
   ],
   "source": []
  },
  {
   "cell_type": "code",
   "execution_count": null,
   "metadata": {
    "collapsed": true
   },
   "outputs": [],
   "source": []
  }
 ],
 "metadata": {
  "kernelspec": {
   "display_name": "Python 3",
   "language": "python",
   "name": "python3"
  },
  "language_info": {
   "codemirror_mode": {
    "name": "ipython",
    "version": 3
   },
   "file_extension": ".py",
   "mimetype": "text/x-python",
   "name": "python",
   "nbconvert_exporter": "python",
   "pygments_lexer": "ipython3",
   "version": "3.5.2+"
  },
  "widgets": {
   "state": {
    "ba7f0bdddfb8477289093bf68849cbe8": {
     "views": [
      {
       "cell_index": 2
      }
     ]
    }
   },
   "version": "1.2.0"
  }
 },
 "nbformat": 4,
 "nbformat_minor": 1
}
