{
 "cells": [
  {
   "cell_type": "code",
   "execution_count": 1,
   "metadata": {
    "collapsed": false
   },
   "outputs": [],
   "source": [
    "import tomographer\n",
    "#import logging\n",
    "#tomographer.cxxlogger.level = logging.NOTSET # slow things down a bit, to test for progress"
   ]
  },
  {
   "cell_type": "code",
   "execution_count": 2,
   "metadata": {
    "collapsed": true
   },
   "outputs": [],
   "source": [
    "# Give us a nice progress bar\n",
    "import tomographer.jpyutil"
   ]
  },
  {
   "cell_type": "code",
   "execution_count": 5,
   "metadata": {
    "collapsed": false,
    "scrolled": false
   },
   "outputs": [],
   "source": [
    "import numpy as np\n",
    "\n",
    "Nm = np.array([ 490, 510, 494, 506, 980, 20 ])\n",
    "\n",
    "Emn = [\n",
    "    # X direction\n",
    "    np.array([[1, 1],\n",
    "              [1, 1]]),\n",
    "    np.array([[1, -1],\n",
    "              [-1, 1]]),\n",
    "    # Y direction\n",
    "    np.array([[1, -1j],\n",
    "              [1j, 1]]),\n",
    "    np.array([[1, 1j],\n",
    "              [-1j, 1]]),\n",
    "    # Z direction\n",
    "    np.array([[1, 0],\n",
    "              [0, 0]]),\n",
    "    np.array([[0, 0],\n",
    "              [0, 1]]),\n",
    "    ]\n",
    "\n",
    "rho_ref = np.array([[1,0],[0,0]])\n",
    "\n",
    "r = None\n",
    "with tomographer.jpyutil.RandWalkProgressBar(\"Running random walks for the tomography procedure ... \") as prg:\n",
    "    r = tomographer.tomorun.tomorun(dim=2, Nm=Nm, Emn=Emn,\n",
    "                                    hist_params=tomographer.UniformBinsHistogramParams(0.9,1,50),\n",
    "                                    mhrw_params=tomographer.MHRWParams(0.025,40,500,32768),\n",
    "                                    fig_of_merit=\"obs-value\",\n",
    "                                    num_repeats=12,\n",
    "                                    observable=rho_ref,\n",
    "                                    progress_fn=prg.progress_fn)\n",
    "    prg.displayFinalInfo(r['final_report_runs'])\n",
    "#print(repr(r))\n",
    "#print(r['final_histogram'].prettyPrint(100))\n",
    "#print(r['final_report'])\n"
   ]
  },
  {
   "cell_type": "code",
   "execution_count": 6,
   "metadata": {
    "collapsed": false
   },
   "outputs": [
    {
     "name": "stdout",
     "output_type": "stream",
     "text": [
      "0.9 1.0 50\n",
      "[[  0.00000000e+00]\n",
      " [  0.00000000e+00]\n",
      " [  0.00000000e+00]\n",
      " [  0.00000000e+00]\n",
      " [  0.00000000e+00]\n",
      " [  0.00000000e+00]\n",
      " [  0.00000000e+00]\n",
      " [  0.00000000e+00]\n",
      " [  0.00000000e+00]\n",
      " [  0.00000000e+00]\n",
      " [  0.00000000e+00]\n",
      " [  0.00000000e+00]\n",
      " [  0.00000000e+00]\n",
      " [  0.00000000e+00]\n",
      " [  0.00000000e+00]\n",
      " [  0.00000000e+00]\n",
      " [  0.00000000e+00]\n",
      " [  0.00000000e+00]\n",
      " [  0.00000000e+00]\n",
      " [  0.00000000e+00]\n",
      " [  0.00000000e+00]\n",
      " [  0.00000000e+00]\n",
      " [  0.00000000e+00]\n",
      " [  0.00000000e+00]\n",
      " [  0.00000000e+00]\n",
      " [  7.62939453e-06]\n",
      " [  5.08626302e-06]\n",
      " [  4.06901042e-05]\n",
      " [  6.86645508e-05]\n",
      " [  1.95821126e-04]\n",
      " [  5.16255697e-04]\n",
      " [  1.49790446e-03]\n",
      " [  3.78163656e-03]\n",
      " [  8.58306885e-03]\n",
      " [  1.84249878e-02]\n",
      " [  3.59166463e-02]\n",
      " [  6.52847290e-02]\n",
      " [  1.04062398e-01]\n",
      " [  1.44894918e-01]\n",
      " [  1.74674988e-01]\n",
      " [  1.72938029e-01]\n",
      " [  1.38420105e-01]\n",
      " [  8.34935506e-02]\n",
      " [  3.60310872e-02]\n",
      " [  9.60540771e-03]\n",
      " [  1.48010254e-03]\n",
      " [  7.37508138e-05]\n",
      " [  2.54313151e-06]\n",
      " [  0.00000000e+00]\n",
      " [  0.00000000e+00]]\n"
     ]
    }
   ],
   "source": [
    "print(r['final_histogram'].params.min, r['final_histogram'].params.max, r['final_histogram'].params.num_bins)\n",
    "print(r['final_histogram'].bins, r['final_histogram'].delta)"
   ]
  },
  {
   "cell_type": "code",
   "execution_count": null,
   "metadata": {
    "collapsed": true
   },
   "outputs": [],
   "source": []
  }
 ],
 "metadata": {
  "kernelspec": {
   "display_name": "Python 3",
   "language": "python",
   "name": "python3"
  },
  "language_info": {
   "codemirror_mode": {
    "name": "ipython",
    "version": 3
   },
   "file_extension": ".py",
   "mimetype": "text/x-python",
   "name": "python",
   "nbconvert_exporter": "python",
   "pygments_lexer": "ipython3",
   "version": "3.5.2+"
  },
  "widgets": {
   "state": {
    "1397baac8cfd4e96b9ed384590681d60": {
     "views": [
      {
       "cell_index": 2
      }
     ]
    }
   },
   "version": "1.2.0"
  }
 },
 "nbformat": 4,
 "nbformat_minor": 1
}
